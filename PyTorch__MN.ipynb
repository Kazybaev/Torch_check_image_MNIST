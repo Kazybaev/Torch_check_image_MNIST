{
  "nbformat": 4,
  "nbformat_minor": 0,
  "metadata": {
    "colab": {
      "provenance": [],
      "gpuType": "T4"
    },
    "kernelspec": {
      "name": "python3",
      "display_name": "Python 3"
    },
    "language_info": {
      "name": "python"
    },
    "accelerator": "GPU"
  },
  "cells": [
    {
      "cell_type": "code",
      "execution_count": null,
      "metadata": {
        "id": "QrfLx2rEtFQO"
      },
      "outputs": [],
      "source": [
        "import torch\n",
        "from torchvision import transforms, datasets\n",
        "from torch.utils.data import DataLoader\n",
        "import torch.nn.functional as F\n",
        "import torch.optim as optim\n",
        "import torch.nn as nn\n",
        "import matplotlib.pyplot as plt"
      ]
    },
    {
      "cell_type": "code",
      "source": [
        "device = torch.device(\"cuda\" if torch.cuda.is_available() else \"cpu\")\n",
        "device"
      ],
      "metadata": {
        "id": "wEuhEfMTEFDk",
        "colab": {
          "base_uri": "https://localhost:8080/"
        },
        "outputId": "92eac705-2e3e-4c6e-f62d-ab5fd0bf01b5"
      },
      "execution_count": null,
      "outputs": [
        {
          "output_type": "execute_result",
          "data": {
            "text/plain": [
              "device(type='cuda')"
            ]
          },
          "metadata": {},
          "execution_count": 118
        }
      ]
    },
    {
      "cell_type": "code",
      "source": [
        "train_transform = transforms.Compose([\n",
        "    transforms.RandomHorizontalFlip(),\n",
        "    transforms.RandomRotation(10),\n",
        "    transforms.ToTensor(),\n",
        "])\n",
        "\n",
        "test_transform = transforms.Compose([\n",
        "    transforms.ToTensor(),\n",
        "])"
      ],
      "metadata": {
        "id": "sRxDgpDXjTwi"
      },
      "execution_count": null,
      "outputs": []
    },
    {
      "cell_type": "code",
      "source": [
        "train_data = datasets.FashionMNIST(root='./data', train=True, download=True, transform=train_transform)\n",
        "test_data = datasets.FashionMNIST(root='./data', train=False, download=True, transform=test_transform)"
      ],
      "metadata": {
        "id": "J6QJtkouEFJD"
      },
      "execution_count": null,
      "outputs": []
    },
    {
      "cell_type": "code",
      "source": [
        "train = DataLoader(train_data, batch_size=64, shuffle=True)\n",
        "test = DataLoader(test_data, batch_size=64, shuffle=False)"
      ],
      "metadata": {
        "id": "5D3xtUEfEFMf"
      },
      "execution_count": null,
      "outputs": []
    },
    {
      "cell_type": "code",
      "source": [
        "train_data.classes"
      ],
      "metadata": {
        "id": "VfhrZ5BSEFQl",
        "colab": {
          "base_uri": "https://localhost:8080/"
        },
        "outputId": "a8b13176-4816-4e7f-c44a-00751d172c50"
      },
      "execution_count": null,
      "outputs": [
        {
          "output_type": "execute_result",
          "data": {
            "text/plain": [
              "['T-shirt/top',\n",
              " 'Trouser',\n",
              " 'Pullover',\n",
              " 'Dress',\n",
              " 'Coat',\n",
              " 'Sandal',\n",
              " 'Shirt',\n",
              " 'Sneaker',\n",
              " 'Bag',\n",
              " 'Ankle boot']"
            ]
          },
          "metadata": {},
          "execution_count": 122
        }
      ]
    },
    {
      "cell_type": "code",
      "source": [
        "class_label = train_data.classes\n",
        "\n",
        "image, label = next(iter(train))\n",
        "plt.imshow(image[3].squeeze(), cmap='gray')\n",
        "plt.title(f'class {class_label[label[3].item()]}')\n",
        "plt.axis('off')\n",
        "plt.show()"
      ],
      "metadata": {
        "id": "LnC7p8zoEFSs",
        "colab": {
          "base_uri": "https://localhost:8080/",
          "height": 428
        },
        "outputId": "ac77feb1-6e82-4b37-80aa-29db363af49a"
      },
      "execution_count": null,
      "outputs": [
        {
          "output_type": "display_data",
          "data": {
            "text/plain": [
              "<Figure size 640x480 with 1 Axes>"
            ],
            "image/png": "[encoded data removed]"
          },
          "metadata": {}
        }
      ]
    },
    {
      "cell_type": "code",
      "source": [
        "class CheckImage(nn.Module):\n",
        "  def __init__(self):\n",
        "    super().__init__()\n",
        "    self.covn = nn.Sequential(\n",
        "        nn.Conv2d(1, 32, kernel_size=3, padding=1),\n",
        "        nn.ReLU(),\n",
        "        nn.MaxPool2d(2),\n",
        "        nn.Conv2d(32, 64, kernel_size=3, padding=1),\n",
        "        nn.ReLU(),\n",
        "        nn.MaxPool2d(2),\n",
        "\n",
        "\n",
        "    )\n",
        "    self.fc = nn.Sequential(\n",
        "        nn.Flatten(),\n",
        "        nn.Linear(64 * 7 * 7, 128),\n",
        "        nn.ReLU(),\n",
        "        nn.Linear(128, 10),\n",
        "    )\n",
        "  def forward(self, x):\n",
        "    x = self.covn(x)\n",
        "    x = self.fc(x)\n",
        "    return x\n",
        "\n",
        "model = CheckImage().to(device)"
      ],
      "metadata": {
        "id": "udoq84Kgkl8i"
      },
      "execution_count": null,
      "outputs": []
    },
    {
      "cell_type": "code",
      "source": [
        "# class CheckImage(nn.Module):\n",
        "#   def __init__(self):\n",
        "#     super().__init__()\n",
        "#     self.covn = nn.Sequential(\n",
        "#         nn.Conv2d(1, 32, kernel_size=3, padding=1),\n",
        "#         nn.ReLU(),\n",
        "#         nn.MaxPool2d(2),\n",
        "#         nn.Dropout(0.25),\n",
        "#         nn.Conv2d(32, 64, kernel_size=3, padding=1),\n",
        "#         nn.ReLU(),\n",
        "#         nn.MaxPool2d(2),\n",
        "#         nn.Dropout(0.25),\n",
        "\n",
        "#     )\n",
        "#     self.fc = nn.Sequential(\n",
        "#         nn.Flatten(),\n",
        "#         nn.Linear(64 * 7 * 7, 128),\n",
        "#         nn.ReLU(),\n",
        "#         nn.Dropout(0.25),\n",
        "#         nn.Linear(128, 10),\n",
        "#     )\n",
        "#   def forward(self, x):\n",
        "#     x = self.covn(x)\n",
        "#     x = self.fc(x)\n",
        "#     return x\n",
        "\n",
        "# model = CheckImage().to(device)"
      ],
      "metadata": {
        "id": "8DxTL2yEEFUr"
      },
      "execution_count": null,
      "outputs": []
    },
    {
      "cell_type": "code",
      "source": [
        "cross = nn.CrossEntropyLoss()\n",
        "optimaze = optim.Adam(model.parameters(), lr=0.001)"
      ],
      "metadata": {
        "id": "r6ShH-pDEFWz"
      },
      "execution_count": null,
      "outputs": []
    },
    {
      "cell_type": "code",
      "source": [
        "epochs = 10\n",
        "\n",
        "for epoch in range(epochs):\n",
        "  model.train()\n",
        "  total_loss = 0\n",
        "  for x_batch, y_batch in train:\n",
        "    x_batch, y_batch = x_batch.to(device), y_batch.to(device)\n",
        "\n",
        "    y_pred = model(x_batch)\n",
        "    loss = cross(y_pred, y_batch)\n",
        "\n",
        "    optimaze.zero_grad()\n",
        "    loss.backward()\n",
        "    optimaze.step()\n",
        "\n",
        "    total_loss += loss.item()\n",
        "  print(f'Эпоха {epoch + 1}, потери {round(total_loss, 2)}')"
      ],
      "metadata": {
        "id": "ewdCZXnREFY0",
        "colab": {
          "base_uri": "https://localhost:8080/"
        },
        "outputId": "2f963694-5294-4d0d-c83b-340446af2327"
      },
      "execution_count": null,
      "outputs": [
        {
          "output_type": "stream",
          "name": "stdout",
          "text": [
            "Эпоха 1, потери 498.38\n",
            "Эпоха 2, потери 329.96\n",
            "Эпоха 3, потери 288.06\n",
            "Эпоха 4, потери 259.21\n",
            "Эпоха 5, потери 239.26\n",
            "Эпоха 6, потери 224.59\n",
            "Эпоха 7, потери 212.72\n",
            "Эпоха 8, потери 200.11\n",
            "Эпоха 9, потери 191.22\n",
            "Эпоха 10, потери 184.73\n"
          ]
        }
      ]
    },
    {
      "cell_type": "code",
      "source": [
        "model.eval()\n",
        "correct = 0\n",
        "total = 0\n",
        "\n",
        "with torch.no_grad():\n",
        "    for x_batch, y_batch in test:\n",
        "        x_batch, y_batch = x_batch.to(device), y_batch.to(device)\n",
        "        y_pred = model(x_batch)\n",
        "        predicted = torch.argmax(y_pred, dim=1)\n",
        "        total += y_batch.size(0)\n",
        "        correct += (predicted == y_batch).sum().item()\n",
        "\n",
        "accuracy = 100 * correct / total\n",
        "print(f'Точность модели на тестовых данных: {accuracy:.2f}%')"
      ],
      "metadata": {
        "id": "tKqU1y8LEFa6",
        "colab": {
          "base_uri": "https://localhost:8080/"
        },
        "outputId": "7b48f7e8-c689-4f58-c26a-0748661608b3"
      },
      "execution_count": null,
      "outputs": [
        {
          "output_type": "stream",
          "name": "stdout",
          "text": [
            "Точность модели на тестовых данных: 91.80%\n"
          ]
        }
      ]
    },
    {
      "cell_type": "code",
      "source": [
        "torch.save(model.state_dict(), \"model_v4.pth\")"
      ],
      "metadata": {
        "id": "HQUTaxbpEFeD"
      },
      "execution_count": null,
      "outputs": []
    },
    {
      "cell_type": "code",
      "source": [],
      "metadata": {
        "id": "d_P_ueLdEFhh"
      },
      "execution_count": null,
      "outputs": []
    },
    {
      "cell_type": "code",
      "source": [],
      "metadata": {
        "id": "EV_m3IHXEFlM"
      },
      "execution_count": null,
      "outputs": []
    },
    {
      "cell_type": "code",
      "source": [],
      "metadata": {
        "id": "XnyMbjooEFol"
      },
      "execution_count": null,
      "outputs": []
    },
    {
      "cell_type": "code",
      "source": [],
      "metadata": {
        "id": "6CdVdSkHEFsB"
      },
      "execution_count": null,
      "outputs": []
    },
    {
      "cell_type": "code",
      "source": [],
      "metadata": {
        "id": "nsf6wLiPEFvX"
      },
      "execution_count": null,
      "outputs": []
    },
    {
      "cell_type": "code",
      "source": [],
      "metadata": {
        "id": "ZZcEh1naEF2n"
      },
      "execution_count": null,
      "outputs": []
    },
    {
      "cell_type": "code",
      "source": [],
      "metadata": {
        "id": "F-Kj266GEF56"
      },
      "execution_count": null,
      "outputs": []
    },
    {
      "cell_type": "code",
      "source": [],
      "metadata": {
        "id": "tsRUOclIEF9Q"
      },
      "execution_count": null,
      "outputs": []
    },
    {
      "cell_type": "code",
      "source": [],
      "metadata": {
        "id": "RokgMYHlEGAj"
      },
      "execution_count": null,
      "outputs": []
    },
    {
      "cell_type": "code",
      "source": [],
      "metadata": {
        "id": "abc-B51CEGD3"
      },
      "execution_count": null,
      "outputs": []
    },
    {
      "cell_type": "code",
      "source": [],
      "metadata": {
        "id": "O5wMozEGEGHg"
      },
      "execution_count": null,
      "outputs": []
    },
    {
      "cell_type": "code",
      "source": [],
      "metadata": {
        "id": "Os8cOicCEGLL"
      },
      "execution_count": null,
      "outputs": []
    },
    {
      "cell_type": "code",
      "source": [],
      "metadata": {
        "id": "gz23PAaNEGNG"
      },
      "execution_count": null,
      "outputs": []
    },
    {
      "cell_type": "code",
      "source": [],
      "metadata": {
        "id": "_Bk-NzrYEGOz"
      },
      "execution_count": null,
      "outputs": []
    }
  ]
}